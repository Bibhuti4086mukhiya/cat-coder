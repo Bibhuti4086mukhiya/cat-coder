{
 "cells": [
  {
   "cell_type": "code",
   "execution_count": 26,
   "id": "76844697",
   "metadata": {},
   "outputs": [],
   "source": [
    "# 3.60 14.00 0.00 0.00 3.00\n",
    "# wheelBase = 3.60; iaxSteeringAngle = 14.00\n",
    "# targetX = 0.00 targetY= 0.00 targetRadius=3.00\n",
    "# find distance,steering angle\n",
    "#  r=w/math.sin(math.radians(sa))\n",
    "#  radians=d/r\n",
    "#  degrees=radians*360/(2*math.pi)\n",
    "\n",
    "# Create rover on simulator\n",
    "# -->>https://rover.codingcontest.org/rover/create?map=L4_MFJS3487&username=bibhuti&contestId=practice\n",
    "# -->>e4c34fa8-139f-48c5-8add-17eb52e4e241\n",
    "# Get rover specifcaton:\n",
    "# -->>https://rover.codingcontest.org/rover/e4c34fa8-139f-48c5-8add-17eb52e4e241\n",
    "# -->>3.60 14.00 0.00 0.00 3.00\n",
    "# Move rover:\n",
    "# -->>https://rover.codingcontest.org/rover/move/e4c34fa8-139f-48c5-8add-17eb52e4e241?distance=100&steeringAngle=0\n",
    "# -->>OK 100.0 0.00 100.00 0.00\n",
    "# ERROR,\"rover crashed\" \n",
    "# -->>https://rover.codingcontest.org/rover/move/e4c34fa8-139f-48c5-8add-17eb52e4e241?distance=-100&steeringAngle=0\n",
    "# -->>PASS L4_1A25X46T46Z34 200.0"
   ]
  },
  {
   "cell_type": "code",
   "execution_count": 31,
   "id": "3ff76161",
   "metadata": {},
   "outputs": [
    {
     "name": "stdout",
     "output_type": "stream",
     "text": [
      "3.6\n",
      "0.06279051952931337\n",
      "0.06279051952931337\n"
     ]
    },
    {
     "data": {
      "text/plain": [
       "0.24434609527920614"
      ]
     },
     "execution_count": 31,
     "metadata": {},
     "output_type": "execute_result"
    }
   ],
   "source": [
    "import math\n",
    "\n",
    "def steeringAngle(r,w):\n",
    "    sa=w/r\n",
    "    print(sa)\n",
    "    return math.sin(math.radians(sa))\n",
    "# steeringAngle(3,3.60)\n",
    "\n",
    "def distance(r,w):\n",
    "    sa=steeringAngle(r,w)\n",
    "    print(sa)\n",
    "    d=sa*r\n",
    "    print(d)\n",
    "    d=(14*(2*math.pi))/360\n",
    "    return d\n",
    "distance(1,3.60)"
   ]
  },
  {
   "cell_type": "code",
   "execution_count": null,
   "id": "4774783d",
   "metadata": {},
   "outputs": [],
   "source": []
  }
 ],
 "metadata": {
  "kernelspec": {
   "display_name": "Python 3 (ipykernel)",
   "language": "python",
   "name": "python3"
  },
  "language_info": {
   "codemirror_mode": {
    "name": "ipython",
    "version": 3
   },
   "file_extension": ".py",
   "mimetype": "text/x-python",
   "name": "python",
   "nbconvert_exporter": "python",
   "pygments_lexer": "ipython3",
   "version": "3.9.12"
  }
 },
 "nbformat": 4,
 "nbformat_minor": 5
}
