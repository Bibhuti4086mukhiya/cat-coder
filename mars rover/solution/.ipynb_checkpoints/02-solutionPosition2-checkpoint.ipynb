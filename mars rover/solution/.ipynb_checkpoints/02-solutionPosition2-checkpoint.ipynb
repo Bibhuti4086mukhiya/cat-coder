{
 "cells": [
  {
   "cell_type": "code",
   "execution_count": 11,
   "id": "95d81d67-da44-4434-ab23-91c56db5672a",
   "metadata": {
    "tags": []
   },
   "outputs": [
    {
     "name": "stdout",
     "output_type": "stream",
     "text": [
      "3.8637033051562737\n",
      "14.829238941980536\n",
      "(0.13, 0.99, 14.83)\n"
     ]
    }
   ],
   "source": [
    "import math\n",
    "def turnRadius(w,sa):\n",
    "    if sa==0:\n",
    "        r=(-1)*w/math.sin(math.radians(360-sa))\n",
    "    else:\n",
    "        r=w/math.sin(math.radians(sa))\n",
    "    print(r)\n",
    "    return r\n",
    "\n",
    "def angle(d,r):\n",
    "    theta=(d*360)/(2*math.pi*r)\n",
    "    print(theta)\n",
    "    return theta\n",
    "\n",
    "def yPoint(a,r):\n",
    "    y=math.sin(math.radians(a))*r\n",
    "    return y\n",
    "\n",
    "def xPoint(a,r):\n",
    "    x=math.cos(math.radians(a))*r\n",
    "    x=r-x\n",
    "    return x\n",
    "\n",
    "def solutionPosition2(w,d,sa):\n",
    "    r=turnRadius(w,sa)\n",
    "    a=angle(d,r)\n",
    "    x=round(xPoint(a,r),2)\n",
    "    y=round(yPoint(a,r),2)\n",
    "    if a<0:\n",
    "        if a>-360:\n",
    "            a=round(360+a,2)\n",
    "        else:\n",
    "            a=round(720+a,2)\n",
    "    else:\n",
    "        a=round(a,2)\n",
    "    return x,y,a\n",
    "\n",
    "print(solutionPosition2(1,1,15))\n"
   ]
  },
  {
   "cell_type": "code",
   "execution_count": 15,
   "id": "b2062ef0-c8e5-4995-bd95-5e3f3daa08cd",
   "metadata": {
    "tags": []
   },
   "outputs": [
    {
     "name": "stdout",
     "output_type": "stream",
     "text": [
      "turn radius= 0.9984988733093293\n"
     ]
    },
    {
     "ename": "NameError",
     "evalue": "name 'r' is not defined",
     "output_type": "error",
     "traceback": [
      "\u001b[1;31m---------------------------------------------------------------------------\u001b[0m",
      "\u001b[1;31mNameError\u001b[0m                                 Traceback (most recent call last)",
      "Input \u001b[1;32mIn [15]\u001b[0m, in \u001b[0;36m<cell line: 39>\u001b[1;34m()\u001b[0m\n\u001b[0;32m     35\u001b[0m \u001b[38;5;66;03m#     print(type(w),listValue)\u001b[39;00m\n\u001b[0;32m     37\u001b[0m val\u001b[38;5;241m=\u001b[39m\u001b[38;5;124m'\u001b[39m\u001b[38;5;124m1 14.00 0.13 0.99 1.00\u001b[39m\u001b[38;5;124m'\u001b[39m\n\u001b[1;32m---> 39\u001b[0m \u001b[43msteeringAngleAndDistace\u001b[49m\u001b[43m(\u001b[49m\u001b[43mval\u001b[49m\u001b[43m)\u001b[49m\n",
      "Input \u001b[1;32mIn [15]\u001b[0m, in \u001b[0;36msteeringAngleAndDistace\u001b[1;34m(val)\u001b[0m\n\u001b[0;32m     30\u001b[0m y\u001b[38;5;241m=\u001b[39m\u001b[38;5;28mfloat\u001b[39m(listValue[\u001b[38;5;241m2\u001b[39m])\n\u001b[0;32m     31\u001b[0m r\u001b[38;5;241m=\u001b[39mturnRadius(x,y)\n\u001b[1;32m---> 32\u001b[0m d\u001b[38;5;241m=\u001b[39m\u001b[43marc\u001b[49m\u001b[43m(\u001b[49m\u001b[43mr\u001b[49m\u001b[43m,\u001b[49m\u001b[43mx\u001b[49m\u001b[43m,\u001b[49m\u001b[43my\u001b[49m\u001b[43m)\u001b[49m\n\u001b[0;32m     33\u001b[0m sa\u001b[38;5;241m=\u001b[39msteeringAngle(w,r)\n\u001b[0;32m     34\u001b[0m \u001b[38;5;28;01mreturn\u001b[39;00m d,math\u001b[38;5;241m.\u001b[39msin(sa)\n",
      "Input \u001b[1;32mIn [15]\u001b[0m, in \u001b[0;36marc\u001b[1;34m(r, x, y)\u001b[0m\n\u001b[0;32m     13\u001b[0m \u001b[38;5;28;01mdef\u001b[39;00m \u001b[38;5;21marc\u001b[39m(r,x,y):\n\u001b[1;32m---> 14\u001b[0m     theta\u001b[38;5;241m=\u001b[39m\u001b[43mthetaAngle\u001b[49m\u001b[43m(\u001b[49m\u001b[43mx\u001b[49m\u001b[43m,\u001b[49m\u001b[43my\u001b[49m\u001b[43m)\u001b[49m\n\u001b[0;32m     15\u001b[0m     d\u001b[38;5;241m=\u001b[39m(theta\u001b[38;5;241m*\u001b[39m(\u001b[38;5;241m2\u001b[39m\u001b[38;5;241m*\u001b[39mmath\u001b[38;5;241m.\u001b[39mpi\u001b[38;5;241m*\u001b[39mr))\u001b[38;5;241m/\u001b[39m\u001b[38;5;241m360\u001b[39m\n\u001b[0;32m     16\u001b[0m     \u001b[38;5;28mprint\u001b[39m(\u001b[38;5;124m'\u001b[39m\u001b[38;5;124marc=\u001b[39m\u001b[38;5;124m'\u001b[39m,r)\n",
      "Input \u001b[1;32mIn [15]\u001b[0m, in \u001b[0;36mthetaAngle\u001b[1;34m(x, y)\u001b[0m\n\u001b[0;32m      8\u001b[0m \u001b[38;5;28;01mdef\u001b[39;00m \u001b[38;5;21mthetaAngle\u001b[39m(x,y):\n\u001b[0;32m      9\u001b[0m     theta\u001b[38;5;241m=\u001b[39mmath\u001b[38;5;241m.\u001b[39matan(y\u001b[38;5;241m/\u001b[39mx)\n\u001b[1;32m---> 10\u001b[0m     \u001b[38;5;28mprint\u001b[39m(\u001b[38;5;124m'\u001b[39m\u001b[38;5;124mtheta=\u001b[39m\u001b[38;5;124m'\u001b[39m,\u001b[43mr\u001b[49m)\n\u001b[0;32m     11\u001b[0m     \u001b[38;5;28;01mreturn\u001b[39;00m theta\n",
      "\u001b[1;31mNameError\u001b[0m: name 'r' is not defined"
     ]
    }
   ],
   "source": [
    "import math\n",
    "def turnRadius(x,y):\n",
    "    r=math.sqrt(x**2 + y**2)\n",
    "    print('turn radius=',r)\n",
    "    return r\n",
    "# turnRadius(80,65.20)\n",
    "\n",
    "def thetaAngle(x,y):\n",
    "    theta=math.atan(y/x)\n",
    "    print('theta=',r)\n",
    "    return theta\n",
    "\n",
    "def arc(r,x,y):\n",
    "    theta=thetaAngle(x,y)\n",
    "    d=(theta*(2*math.pi*r))/360\n",
    "    print('arc=',r)\n",
    "    return d\n",
    "\n",
    "def steeringAngle(w,r):\n",
    "    sa=w/r\n",
    "    print('steering Angle=',r)\n",
    "    return sa\n",
    "\n",
    "# steeringAngle(3.60,103.20)\n",
    "\n",
    "def steeringAngleAndDistace(val):\n",
    "    listValue=val.split()\n",
    "    w=float(listValue.pop(0))\n",
    "    x=float(listValue[1])\n",
    "    y=float(listValue[2])\n",
    "    r=turnRadius(x,y)\n",
    "    d=arc(r,x,y)\n",
    "    sa=steeringAngle(w,r)\n",
    "    return d,math.sin(sa)\n",
    "#     print(type(w),listValue)\n",
    "\n",
    "val='1 14.00 0.13 0.99 1.00'\n",
    "\n",
    "steeringAngleAndDistace(val)"
   ]
  },
  {
   "cell_type": "code",
   "execution_count": 1,
   "id": "424b4b5b-a220-459d-bed8-bfbfb2c61563",
   "metadata": {
    "tags": []
   },
   "outputs": [
    {
     "name": "stdout",
     "output_type": "stream",
     "text": [
      "(-0.13, 0.99, 345.17)\n"
     ]
    }
   ],
   "source": [
    "import math\n",
    "def turnRadius(w,sa):\n",
    "    if sa==0:\n",
    "        r=(-1)*w/math.sin(math.radians(360-sa))\n",
    "    else:\n",
    "        r=w/math.sin(math.radians(sa))\n",
    "    return r\n",
    "\n",
    "def angle(d,r):\n",
    "    theta=(d*360)/(2*math.pi*r)\n",
    "    return theta\n",
    "\n",
    "def yPoint(a,r):\n",
    "    y=math.sin(math.radians(a))*r\n",
    "    return y\n",
    "\n",
    "def xPoint(a,r):\n",
    "    x=math.cos(math.radians(a))*r\n",
    "    x=r-x\n",
    "    return x\n",
    "\n",
    "def solutionPosition3(w,d,sa):\n",
    "    r=turnRadius(w,sa)\n",
    "    a=angle(d,r)\n",
    "    x=round(xPoint(a,r),2)\n",
    "    y=round(yPoint(a,r),2)\n",
    "    if a<0:\n",
    "        if a>-360:\n",
    "            a=round(360+a,2)\n",
    "        else:\n",
    "            a=round(720+a,2)\n",
    "    else:\n",
    "        a=round(a,2)\n",
    "    return x,y,a\n",
    "\n",
    "print(solutionPosition3(1,1,-15))\n"
   ]
  }
 ],
 "metadata": {
  "kernelspec": {
   "display_name": "Python 3 (ipykernel)",
   "language": "python",
   "name": "python3"
  },
  "language_info": {
   "codemirror_mode": {
    "name": "ipython",
    "version": 3
   },
   "file_extension": ".py",
   "mimetype": "text/x-python",
   "name": "python",
   "nbconvert_exporter": "python",
   "pygments_lexer": "ipython3",
   "version": "3.9.12"
  },
  "vscode": {
   "interpreter": {
    "hash": "a7e8aacb4e94cb96fcd6d79898d1bdfc8fe77d2fd2ae575997f141a6470f2aa8"
   }
  }
 },
 "nbformat": 4,
 "nbformat_minor": 5
}
