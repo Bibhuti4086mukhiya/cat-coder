{
 "cells": [
  {
   "cell_type": "code",
   "execution_count": null,
   "id": "c775e6f3",
   "metadata": {},
   "outputs": [],
   "source": [
    "# rover position\n",
    "# https://rover.codingcontest.org/rover/move/e4c34fa8-139f-48c5-8add-17eb52e4e241?distance=0,0&steeringAngle=0\n",
    "\n",
    "# Create session:\n",
    "# https://rover.codingcontest.org/rover/create?map=L5_MAF3401R&username=bibhuti&contestId=practice\n",
    "# 9fe166d5-ba01-4638-9104-9a477bfc6d5e\n",
    "\n",
    "# Get rover specification\n",
    "# https://rover.codingcontest.org/rover/9fe166d5-ba01-4638-9104-9a477bfc6d5e\n",
    "# 3.60 14.00 80.00 65.20 1.00\n",
    "\n",
    "# Move rover\n",
    "# https://rover.codingcontest.org/rover/move/9fe166d5-ba01-4638-9104-9a477bfc6d5e?distance=100&steeringAngle=0\n",
    "\n"
   ]
  },
  {
   "cell_type": "code",
   "execution_count": 1,
   "id": "d00cb1bf",
   "metadata": {},
   "outputs": [],
   "source": [
    "# we have,\n",
    "# actual position(x,y)\n",
    "# radius\n",
    "# wheelbase\n",
    "# max steering angle\n",
    "\n",
    "# have find,\n",
    "# distance=?\n",
    "# steering angle=?\n",
    "\n",
    "# this is position 2\n",
    "# 3.60 14.00 80.00 65.20 1.00\n",
    "# wheelBase = 3.60; maxSteeringAngle = 14.00 targetX = 80.00 targetY= 65.20 targetRadius=1.00\n",
    "\n",
    "# how to reach the position 2\n",
    "# find distance,steering angle\n",
    "\n",
    "# find radius by distance between two points formula:\n",
    "# radius=sqrt((x-0)^2+(y-0)^2)\n",
    "\n",
    "# steering angle=???\n",
    "\n",
    "# angle=tan^-1(siny/cosx)\n",
    "# now we have angle\n",
    "\n",
    "# first move d=100 with steering angle=0.68 \n",
    "# second, move 3.20 with steering angle=0 \n",
    "# then rotate second coodinate with angle=0.68\n",
    "\n"
   ]
  },
  {
   "cell_type": "code",
   "execution_count": 5,
   "id": "0f3901f3",
   "metadata": {},
   "outputs": [
    {
     "data": {
      "text/plain": [
       "103.20387589620847"
      ]
     },
     "execution_count": 5,
     "metadata": {},
     "output_type": "execute_result"
    }
   ],
   "source": [
    "import math\n",
    "import numpy as np\n",
    "def turnRadius(x,y):\n",
    "    r=math.sqrt(x**2 + y**2)\n",
    "    return r\n",
    "\n",
    "def thetaAngle(x,y):\n",
    "    theta=math.atan(y/x)\n",
    "#     a = math.degrees(theta)\n",
    "    return theta\n",
    "\n",
    "def arc(r,x,y):\n",
    "    theta=thetaAngle(x,y)\n",
    "    print(theta,r)\n",
    "#     arc=(theta*(2*math.pi*r))/360\n",
    "    arc=(theta/360)*2*math.pi*r\n",
    "    return arc\n",
    "\n",
    "def steeringAngle(w,r):\n",
    "    sa=w/r\n",
    "    return sa\n",
    "\n",
    "def steeringAngleAndDistace(val):\n",
    "    listValue=val.split()\n",
    "    w=float(listValue.pop(0))\n",
    "    x=float(listValue[1])\n",
    "    y=float(listValue[2])\n",
    "    r=turnRadius(x,y)\n",
    "    d=arc(r,x,y)\n",
    "    sa=steeringAngle(w,r)\n",
    "    return d,sa \n",
    "\n",
    "# val='3.60 14.00 80.00 65.20 1.00'\n",
    "\n",
    "# steeringAngleAndDistace(val)\n",
    "\n",
    "# arc(103.2,80,65.2)\n",
    "turnRadius(80,65.2)"
   ]
  },
  {
   "cell_type": "code",
   "execution_count": 13,
   "id": "0f6da23e",
   "metadata": {},
   "outputs": [
    {
     "name": "stdout",
     "output_type": "stream",
     "text": [
      "82.51911382047633\n"
     ]
    },
    {
     "data": {
      "text/plain": [
       "1.43806826395331"
      ]
     },
     "execution_count": 13,
     "metadata": {},
     "output_type": "execute_result"
    }
   ],
   "source": [
    "import numpy as np\n",
    "import math\n",
    "def turnRadius(x,y):\n",
    "    r=math.sqrt(x**2 + y**2)\n",
    "    return r\n",
    "\n",
    "def thetaAngle(x,y):\n",
    "    theta=math.atan(y/x)\n",
    "    a = math.degrees(theta)\n",
    "    return a\n",
    "\n",
    "def arc(x,y):\n",
    "    r=turnRadius(x,y)\n",
    "    a=thetaAngle(x,y)\n",
    "    print(a)\n",
    "    arc=(a*(2*math.pi*r))/360\n",
    "    return arc\n",
    "\n",
    "arc(0.13,0.99)"
   ]
  },
  {
   "cell_type": "code",
   "execution_count": 2,
   "id": "e8204a9f",
   "metadata": {},
   "outputs": [
    {
     "data": {
      "text/plain": [
       "161.00114043176134"
      ]
     },
     "execution_count": 2,
     "metadata": {},
     "output_type": "execute_result"
    }
   ],
   "source": [
    "import math\n",
    "math.degrees(2.81)"
   ]
  },
  {
   "cell_type": "code",
   "execution_count": 49,
   "id": "932648ae",
   "metadata": {},
   "outputs": [
    {
     "name": "stdout",
     "output_type": "stream",
     "text": [
      "0.6838462781954253\n",
      "39.18150557632705\n",
      "0.996095034835857\n"
     ]
    }
   ],
   "source": [
    "arc=70.57293590976789\n",
    "r=103.20\n",
    "theta=arc/r\n",
    "print(theta)\n",
    "a = math.degrees(theta)\n",
    "print(a)\n",
    "sa = math.sin(a)\n",
    "print(sa)"
   ]
  },
  {
   "cell_type": "code",
   "execution_count": 4,
   "id": "67b78076",
   "metadata": {},
   "outputs": [
    {
     "data": {
      "text/plain": [
       "16615.2"
      ]
     },
     "execution_count": 4,
     "metadata": {},
     "output_type": "execute_result"
    }
   ],
   "source": [
    "arc=161*103.2\n",
    "arc"
   ]
  }
 ],
 "metadata": {
  "kernelspec": {
   "display_name": "Python 3 (ipykernel)",
   "language": "python",
   "name": "python3"
  },
  "language_info": {
   "codemirror_mode": {
    "name": "ipython",
    "version": 3
   },
   "file_extension": ".py",
   "mimetype": "text/x-python",
   "name": "python",
   "nbconvert_exporter": "python",
   "pygments_lexer": "ipython3",
   "version": "3.9.12"
  }
 },
 "nbformat": 4,
 "nbformat_minor": 5
}
