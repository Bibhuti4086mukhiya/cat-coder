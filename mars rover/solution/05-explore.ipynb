{
 "cells": [
  {
   "cell_type": "code",
   "execution_count": null,
   "id": "c775e6f3",
   "metadata": {},
   "outputs": [],
   "source": [
    "rover position\n",
    "https://rover.codingcontest.org/rover/move/e4c34fa8-139f-48c5-8add-17eb52e4e241?distance=0,0&steeringAngle=0\n",
    "\n",
    "Create session:\n",
    "https://rover.codingcontest.org/rover/create?map=L5_MAF3401R&username=bibhuti&contestId=practice\n",
    "9fe166d5-ba01-4638-9104-9a477bfc6d5e\n",
    "\n",
    "Get rover specification\n",
    "https://rover.codingcontest.org/rover/9fe166d5-ba01-4638-9104-9a477bfc6d5e\n",
    "3.60 14.00 80.00 65.20 1.00\n",
    "\n",
    "Move rover\n",
    "https://rover.codingcontest.org/rover/move/9fe166d5-ba01-4638-9104-9a477bfc6d5e?distance=100&steeringAngle=0\n",
    "\n",
    "\n",
    "\n"
   ]
  },
  {
   "cell_type": "code",
   "execution_count": 11,
   "id": "d00cb1bf",
   "metadata": {},
   "outputs": [
    {
     "data": {
      "text/plain": [
       "103.20387589620847"
      ]
     },
     "execution_count": 11,
     "metadata": {},
     "output_type": "execute_result"
    }
   ],
   "source": [
    "# we have,\n",
    "actual position(x,y)\n",
    "radius\n",
    "wheelbase\n",
    "max steering angle\n",
    "\n",
    "have find,\n",
    "distance=?\n",
    "steering angle=?\n"
   ]
  },
  {
   "cell_type": "code",
   "execution_count": 12,
   "id": "0f3901f3",
   "metadata": {},
   "outputs": [
    {
     "name": "stdout",
     "output_type": "stream",
     "text": [
      "3.6\n"
     ]
    },
    {
     "data": {
      "text/plain": [
       "0.06279051952931337"
      ]
     },
     "execution_count": 12,
     "metadata": {},
     "output_type": "execute_result"
    }
   ],
   "source": [
    "import math\n",
    "def steeringAngle(r,w):\n",
    "    sa=w/r\n",
    "    print(sa)\n",
    "    return math.sin(math.radians(sa))\n",
    "steeringAngle(1,3.60)\n",
    "\n"
   ]
  },
  {
   "cell_type": "code",
   "execution_count": null,
   "id": "17a7db04",
   "metadata": {},
   "outputs": [],
   "source": []
  }
 ],
 "metadata": {
  "kernelspec": {
   "display_name": "Python 3 (ipykernel)",
   "language": "python",
   "name": "python3"
  },
  "language_info": {
   "codemirror_mode": {
    "name": "ipython",
    "version": 3
   },
   "file_extension": ".py",
   "mimetype": "text/x-python",
   "name": "python",
   "nbconvert_exporter": "python",
   "pygments_lexer": "ipython3",
   "version": "3.9.12"
  }
 },
 "nbformat": 4,
 "nbformat_minor": 5
}
