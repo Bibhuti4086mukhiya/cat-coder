{
 "cells": [
  {
   "cell_type": "code",
   "execution_count": 12,
   "id": "53da5fa7",
   "metadata": {},
   "outputs": [
    {
     "name": "stdout",
     "output_type": "stream",
     "text": [
      "P\n",
      "S\n",
      "P\n",
      "R\n",
      "P\n",
      "R\n",
      "R\n",
      "S\n",
      "P\n",
      "S\n",
      "S\n",
      "S\n",
      "P\n",
      "R\n",
      "P\n",
      "R\n",
      "S\n",
      "R\n",
      "S\n",
      "P\n",
      "P\n",
      "P\n",
      "R\n",
      "P\n",
      "P\n",
      "R\n",
      "P\n",
      "R\n",
      "P\n",
      "S\n",
      "R\n",
      "P\n",
      "S\n",
      "R\n",
      "S\n",
      "P\n",
      "P\n",
      "S\n",
      "R\n",
      "P\n",
      "P\n",
      "S\n",
      "R\n",
      "R\n",
      "R\n",
      "P\n",
      "P\n",
      "P\n",
      "S\n",
      "P\n",
      "\n"
     ]
    }
   ],
   "source": [
    "def winner(value):\n",
    "    list1=value.split()\n",
    "    output=''\n",
    "    for i in range(len(list1)):\n",
    "        list2=list1[i]\n",
    "        if list2[0]=='P' and list2[1]=='R' or list2[1]=='P' and list2[0]=='R':\n",
    "            output+='P\\n'\n",
    "        if list2[0]=='R' and list2[1]=='R' or list2[1]=='R' and list2[0]=='R':\n",
    "            output+='R\\n'\n",
    "        if list2[0]=='S' and list2[1]=='S' or list2[1]=='S' and list2[0]=='S':\n",
    "            output+='S\\n'\n",
    "        if list2[0]=='P' and list2[1]=='P' or list2[1]=='P' and list2[0]=='P':\n",
    "            output+='P\\n'\n",
    "        if list2[0]=='S' and list2[1]=='R' or list2[1]=='S' and list2[0]=='R':\n",
    "            output+='R\\n'\n",
    "        if list2[0]=='P' and list2[1]=='S' or list2[1]=='P' and list2[0]=='S':\n",
    "            output+='S\\n'\n",
    "    return output\n",
    "\n",
    "value='''\n",
    "\n",
    "'''\n",
    "\n",
    "print(winner(value))"
   ]
  }
 ],
 "metadata": {
  "kernelspec": {
   "display_name": "Python 3 (ipykernel)",
   "language": "python",
   "name": "python3"
  },
  "language_info": {
   "codemirror_mode": {
    "name": "ipython",
    "version": 3
   },
   "file_extension": ".py",
   "mimetype": "text/x-python",
   "name": "python",
   "nbconvert_exporter": "python",
   "pygments_lexer": "ipython3",
   "version": "3.9.12"
  },
  "vscode": {
   "interpreter": {
    "hash": "a2ab3825ac7005fb7b26f112e9c99ae62f464c629e30b0d534c3b931b6cbc3ff"
   }
  }
 },
 "nbformat": 4,
 "nbformat_minor": 5
}
