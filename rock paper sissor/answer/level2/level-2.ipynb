{
 "cells": [
  {
   "cell_type": "code",
   "execution_count": null,
   "id": "53da5fa7",
   "metadata": {},
   "outputs": [],
   "source": [
    "def winner(value):\n",
    "    list1=value.split()\n",
    "    output=''\n",
    "    for i in range(len(list1)):\n",
    "        list2=list1[i]\n",
    "        if list2[0]=='P' and list2[1]=='R' or list2[1]=='P' and list2[0]=='R':\n",
    "            output+='P\\n'\n",
    "        if list2[0]=='R' and list2[1]=='R' or list2[1]=='R' and list2[0]=='R':\n",
    "            output+='R\\n'\n",
    "        if list2[0]=='S' and list2[1]=='S' or list2[1]=='S' and list2[0]=='S':\n",
    "            output+='S\\n'\n",
    "        if list2[0]=='P' and list2[1]=='P' or list2[1]=='P' and list2[0]=='P':\n",
    "            output+='P\\n'\n",
    "        if list2[0]=='S' and list2[1]=='R' or list2[1]=='S' and list2[0]=='R':\n",
    "            output+='R\\n'\n",
    "        if list2[0]=='P' and list2[1]=='S' or list2[1]=='P' and list2[0]=='S':\n",
    "            output+='S\\n'\n",
    "    return output\n",
    "\n",
    "value='''\n",
    "\n",
    "'''\n",
    "\n",
    "print(winner(value))"
   ]
  },
  {
   "cell_type": "code",
   "execution_count": 50,
   "id": "2e6c3089",
   "metadata": {},
   "outputs": [
    {
     "name": "stdout",
     "output_type": "stream",
     "text": [
      "['PRRRSSSR', 'PSRPPSPP', 'PPPSRSPR']\n",
      "['PRRR', 'PSRP', 'PPPS'] ['SSSR', 'PSPP', 'RSPR']\n",
      "['PR', 'PS', 'PP'] ['RR', 'RP', 'PS'] ['SS', 'PS', 'RS'] ['SR', 'PP', 'PR']\n",
      "\n"
     ]
    }
   ],
   "source": [
    "def winner(list):\n",
    "    output=''\n",
    "    for i in range(len(list1)):\n",
    "        list2=list1[i]\n",
    "        if list2[0]=='P' and list2[1]=='R' or list2[1]=='P' and list2[0]=='R':\n",
    "            output+='P\\n'\n",
    "        if list2[0]=='R' and list2[1]=='R' or list2[1]=='R' and list2[0]=='R':\n",
    "            output+='R\\n'\n",
    "        if list2[0]=='S' and list2[1]=='S' or list2[1]=='S' and list2[0]=='S':\n",
    "            output+='S\\n'\n",
    "        if list2[0]=='P' and list2[1]=='P' or list2[1]=='P' and list2[0]=='P':\n",
    "            output+='P\\n'\n",
    "        if list2[0]=='S' and list2[1]=='R' or list2[1]=='S' and list2[0]=='R':\n",
    "            output+='R\\n'\n",
    "        if list2[0]=='P' and list2[1]=='S' or list2[1]=='P' and list2[0]=='S':\n",
    "            output+='S\\n'\n",
    "    return output\n",
    "\n",
    "def semifinal(value2):\n",
    "    list3=value2.split()\n",
    "    print(list3)\n",
    "    list4=[]\n",
    "    list5=[]\n",
    "    \n",
    "    for i in range(len(list3)):\n",
    "        half=len(list3[i])//2\n",
    "        list4+=[list3[i][0:half]]\n",
    "        list5+=[list3[i][half:]]\n",
    "    \n",
    "    list7=[]\n",
    "    list8=[]\n",
    "    for j in range(len(list4)):\n",
    "        half=len(list4[j])//2\n",
    "        list7+=[list4[j][0:half]]\n",
    "        list8+=[list4[j][half:]]\n",
    "    \n",
    "    list9=[]\n",
    "    list10=[]\n",
    "    for k in range(len(list5)):\n",
    "        half=len(list5[k])//2\n",
    "        list9+=[list5[k][0:half]]\n",
    "        list10+=[list5[k][half:]]\n",
    "        \n",
    "    list11+=\n",
    "    print(list4,list5)\n",
    "    print(list7,list8,list9,list10)\n",
    "    print()\n",
    "\n",
    "\n",
    "value2='''\n",
    "PRRRSSSR\n",
    "PSRPPSPP\n",
    "PPPSRSPR'''\n",
    "semifinal(value2)"
   ]
  },
  {
   "cell_type": "code",
   "execution_count": 21,
   "id": "fae4efc9",
   "metadata": {},
   "outputs": [
    {
     "data": {
      "text/plain": [
       "'PRRR'"
      ]
     },
     "execution_count": 21,
     "metadata": {},
     "output_type": "execute_result"
    }
   ],
   "source": [
    "val='PRRRSSSR'\n",
    "val1=val[0:4]\n",
    "val1"
   ]
  }
 ],
 "metadata": {
  "kernelspec": {
   "display_name": "base",
   "language": "python",
   "name": "python3"
  },
  "language_info": {
   "codemirror_mode": {
    "name": "ipython",
    "version": 3
   },
   "file_extension": ".py",
   "mimetype": "text/x-python",
   "name": "python",
   "nbconvert_exporter": "python",
   "pygments_lexer": "ipython3",
   "version": "3.9.12"
  },
  "vscode": {
   "interpreter": {
    "hash": "a2ab3825ac7005fb7b26f112e9c99ae62f464c629e30b0d534c3b931b6cbc3ff"
   }
  }
 },
 "nbformat": 4,
 "nbformat_minor": 5
}
