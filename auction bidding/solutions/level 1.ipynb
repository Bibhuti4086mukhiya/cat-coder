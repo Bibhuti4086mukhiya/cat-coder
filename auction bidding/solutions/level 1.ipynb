{
 "cells": [
  {
   "cell_type": "code",
   "execution_count": 8,
   "id": "631d0e36",
   "metadata": {},
   "outputs": [
    {
     "name": "stdout",
     "output_type": "stream",
     "text": [
      "A,17\n"
     ]
    }
   ],
   "source": [
    "def main(bid_list):\n",
    "    bid_list=bid_list.split(',')\n",
    "    bid=int(bid_list[0])\n",
    "    price=bid_list.pop(0)\n",
    "    winner=''\n",
    "    for i in range((len(bid_list)//2)-1):\n",
    "        buyer1=bid_list.pop(0)\n",
    "        bid1=int(bid_list.pop(0))\n",
    "        if  len(bid_list) != 0 and str(buyer1) != str(bid_list[0]):\n",
    "            buyer2=bid_list.pop(0)\n",
    "            bid2=int(bid_list.pop(0))\n",
    "            if bid2>bid1:\n",
    "                price=price.replace(price,str(bid1 + int(price)))\n",
    "                winner=winner.replace(winner,buyer2)\n",
    "            elif bid2 == bid1:\n",
    "                price=price.replace(price,str(bid1))\n",
    "                winner=winner.replace(winner,buyer1)\n",
    "                break\n",
    "            else:\n",
    "                price.replace(price,bid2+int(price))\n",
    "                winner.replace(winner,buyer1)\n",
    "        elif bid1 < bid2:\n",
    "            price=price.replace(price,str(bid1 + int(bid)))\n",
    "            winner=winner.replace(winner,buyer2)\n",
    "        \n",
    "        elif bid1 > bid2:\n",
    "            price=price.replace(price,str(bid2 + int(bid)))\n",
    "            winner=winner.replace(winner,buyer1)\n",
    "\n",
    "    return winner,price\n",
    "inputValue=\"1,A,5,B,10,A,8,A,17,B,17\"\n",
    "result=main(inputValue)\n",
    "print(result[0] +','+result[1])"
   ]
  },
  {
   "cell_type": "code",
   "execution_count": 6,
   "id": "ed36e269",
   "metadata": {},
   "outputs": [
    {
     "data": {
      "text/plain": [
       "'world'"
      ]
     },
     "execution_count": 6,
     "metadata": {},
     "output_type": "execute_result"
    }
   ],
   "source": [
    "winner='hello'\n",
    "winner.replace(winner,'world')\n"
   ]
  }
 ],
 "metadata": {
  "kernelspec": {
   "display_name": "Python 3 (ipykernel)",
   "language": "python",
   "name": "python3"
  },
  "language_info": {
   "codemirror_mode": {
    "name": "ipython",
    "version": 3
   },
   "file_extension": ".py",
   "mimetype": "text/x-python",
   "name": "python",
   "nbconvert_exporter": "python",
   "pygments_lexer": "ipython3",
   "version": "3.9.12"
  }
 },
 "nbformat": 4,
 "nbformat_minor": 5
}
