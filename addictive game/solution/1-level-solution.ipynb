{
 "cells": [
  {
   "cell_type": "code",
   "execution_count": 7,
   "id": "2b033d38",
   "metadata": {},
   "outputs": [],
   "source": [
    "# *planning\n",
    "# 1.make row and column of by loop\n",
    "# 2.know how to access the value \n",
    "# *input value\n",
    "# -->>rows cols numberOfPositions Position1 Position2 … PositionnumberOfPositions\n",
    "# *output value\n",
    "# -->>r1 c1 r2 c2 … rnumberOfPositions cnumberOfPositions"
   ]
  },
  {
   "cell_type": "code",
   "execution_count": 43,
   "id": "c251bc8f",
   "metadata": {},
   "outputs": [
    {
     "name": "stdout",
     "output_type": "stream",
     "text": [
      "[[1, 2, 3, 4], [5, 6, 7, 8], [9, 10, 11, 12], [13, 14, 15, 16], [17, 18, 19, 20], [21, 22, 23, 24]]\n",
      "16\n"
     ]
    }
   ],
   "source": [
    "def rowAndColumn(row,col):\n",
    "    array=[]\n",
    "    for i in range(1,row*col,col):\n",
    "        list1=[]\n",
    "        for j in range(col):\n",
    "            l=i+j\n",
    "            list1+=[l]\n",
    "        array+=[list1]\n",
    "    return array\n",
    "print(rowAndColumn(6,4))\n",
    "print(array[3][3])\n"
   ]
  },
  {
   "cell_type": "code",
   "execution_count": null,
   "id": "3885e54c",
   "metadata": {},
   "outputs": [],
   "source": [
    "def findRowAndColum(r,c):\n",
    "    array=rowAndColumn(6,4)\n",
    "    for i in range(1,len(array+1)):\n",
    "        for j in range(1,len(array[0])+1):\n",
    "            print(array[i][j])\n",
    "\n",
    "findRowAndColum()"
   ]
  }
 ],
 "metadata": {
  "kernelspec": {
   "display_name": "Python 3 (ipykernel)",
   "language": "python",
   "name": "python3"
  },
  "language_info": {
   "codemirror_mode": {
    "name": "ipython",
    "version": 3
   },
   "file_extension": ".py",
   "mimetype": "text/x-python",
   "name": "python",
   "nbconvert_exporter": "python",
   "pygments_lexer": "ipython3",
   "version": "3.9.12"
  }
 },
 "nbformat": 4,
 "nbformat_minor": 5
}
