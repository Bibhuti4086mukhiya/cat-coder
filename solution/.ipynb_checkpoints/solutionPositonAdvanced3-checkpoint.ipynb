{
 "cells": [
  {
   "cell_type": "code",
   "execution_count": 134,
   "id": "c910afa5-189f-48e6-b1f3-7acfc9b4daa9",
   "metadata": {
    "tags": []
   },
   "outputs": [
    {
     "name": "stdin",
     "output_type": "stream",
     "text": [
      "enter the number of distace and steering angle 4\n",
      "enter wheelbase 1.09\n",
      "enter distance 9.86\n",
      "enter steeringange 10\n"
     ]
    },
    {
     "name": "stdout",
     "output_type": "stream",
     "text": [
      "6.277059826626561\n",
      "rotational vector x and y = (6.28, -6.28)\n"
     ]
    },
    {
     "name": "stdin",
     "output_type": "stream",
     "text": [
      "enter distance 9.86\n",
      "enter steeringange 10\n"
     ]
    },
    {
     "name": "stdout",
     "output_type": "stream",
     "text": [
      "6.277059826626561\n",
      "rotational vector x and y = (6.28, -6.28)\n"
     ]
    },
    {
     "name": "stdin",
     "output_type": "stream",
     "text": [
      "enter distance 9.86\n",
      "enter steeringange 10\n"
     ]
    },
    {
     "name": "stdout",
     "output_type": "stream",
     "text": [
      "6.277059826626561\n",
      "rotational vector x and y = (6.28, -6.28)\n"
     ]
    },
    {
     "name": "stdin",
     "output_type": "stream",
     "text": [
      "enter distance 9.86\n",
      "enter steeringange 10\n"
     ]
    },
    {
     "name": "stdout",
     "output_type": "stream",
     "text": [
      "6.277059826626561\n",
      "rotational vector x and y = (6.28, -6.28)\n",
      "13 -25\n"
     ]
    }
   ],
   "source": [
    "# math.radians give value like 0, 1/2, 1/root2...\n",
    "\n",
    "import math\n",
    "def turnRadius(w,sa):\n",
    "    if sa<=0:\n",
    "        r=(1)*(w/math.sin(math.radians(360-sa)))\n",
    "        if r<0:\n",
    "            r=r*(-1)\n",
    "        print(r)\n",
    "    else:\n",
    "        r=w/math.sin(math.radians(sa))\n",
    "        print(r)\n",
    "    return r\n",
    "\n",
    "def angle(d,r):\n",
    "    theta=(d*360)/(2*math.pi*r)\n",
    "    # print(theta)\n",
    "    return theta\n",
    "\n",
    "def yPoint(a,r):\n",
    "    y=math.sin(math.radians(a))*r\n",
    "    return y\n",
    "\n",
    "def xPoint(a,r):\n",
    "    x=math.cos(math.radians(a))*r\n",
    "    x=r-x\n",
    "    return x\n",
    "\n",
    "def solutionPosition3(w,d,sa):\n",
    "    yaxis=0\n",
    "    r=turnRadius(w,sa)\n",
    "    a=angle(d,r)\n",
    "    x=round(xPoint(a,r),2)\n",
    "    y=round(yPoint(a,r),2)\n",
    "    if a<0:\n",
    "        if a>-360:\n",
    "            a=round(360+a,2)\n",
    "        else:\n",
    "            a=round(720+a,2)\n",
    "    else:\n",
    "        a=round(a,2)\n",
    "    print('rotational vector x and y =',rotationVector(x,y,a))\n",
    "    return x,y,a,\n",
    "\n",
    "def rotationVector(x,y,a):\n",
    "    x1=(math.cos(math.radians(a))*x)+ (math.sin(math.radians(a))*y)\n",
    "    y1=((-1)*math.sin(math.radians(a))*x)+(math.cos(math.radians(a))*y)\n",
    "    return x1,y1\n",
    "\n",
    "\n",
    "# solutionPosition3(1,1,15)\n",
    "# xya=solutionPosition3(1,1,15)\n",
    "# rotation_xya=rotationVector(xya[0],xya[1],xya[2])\n",
    "# rotation_xya\n",
    "\n",
    "n=int(input(\"enter the number of distace and steering angle\"))\n",
    "w=float(input('enter wheelbase'))\n",
    "y_axis=0\n",
    "for i in range(n):\n",
    "    d=float(input('enter distance'))\n",
    "    sa=float(input('enter steeringange'))\n",
    "    xya=solutionPosition3(w,d,sa)\n",
    "    rotation_xya=rotationVector(xya[0],xya[1],xya[2])\n",
    "    x_axis=(xya[0])+rotation_xya[0]\n",
    "    y_axis+=rotation_xya[1]\n",
    "print(round(x_axis),round(y_axis))"
   ]
  },
  {
   "cell_type": "code",
   "execution_count": 29,
   "id": "0789050c-73d5-493c-a9cc-90c5be9a9e85",
   "metadata": {},
   "outputs": [
    {
     "data": {
      "text/plain": [
       "(27.319814031390866, -7.320694044297907)"
      ]
     },
     "execution_count": 29,
     "metadata": {},
     "output_type": "execute_result"
    }
   ],
   "source": [
    "# sum all rotation of y value\n",
    "# sum r1+x-coodinate of the last distance and string conver -ve into and add\n",
    "#sum all angle then add\n",
    "\n",
    "def rotationVector(x,y,angle):\n",
    "    x1=(math.cos(math.radians(angle))*x)+ ((-1)*math.sin(math.radians(angle))*y)\n",
    "    y1=(math.sin(math.radians(angle))*x)+(math.cos(math.radians(angle))*y)\n",
    "    return x1,y1\n",
    "\n",
    "rotationVector(27.32,7.32,30)"
   ]
  },
  {
   "cell_type": "code",
   "execution_count": 11,
   "id": "1a7828e8-c25a-43bf-9db7-a05b288c1bfc",
   "metadata": {
    "tags": []
   },
   "outputs": [
    {
     "ename": "NameError",
     "evalue": "name 'angle' is not defined",
     "output_type": "error",
     "traceback": [
      "\u001b[1;31m---------------------------------------------------------------------------\u001b[0m",
      "\u001b[1;31mNameError\u001b[0m                                 Traceback (most recent call last)",
      "Cell \u001b[1;32mIn[11], line 2\u001b[0m\n\u001b[0;32m      1\u001b[0m \u001b[38;5;28;01mimport\u001b[39;00m \u001b[38;5;21;01mmath\u001b[39;00m\n\u001b[1;32m----> 2\u001b[0m x1\u001b[38;5;241m=\u001b[39m((\u001b[38;5;241m-\u001b[39m\u001b[38;5;241m1\u001b[39m)\u001b[38;5;241m*\u001b[39mmath\u001b[38;5;241m.\u001b[39msin(math\u001b[38;5;241m.\u001b[39mradians(\u001b[43mangle\u001b[49m))\u001b[38;5;241m*\u001b[39mx)\u001b[38;5;241m+\u001b[39m(math\u001b[38;5;241m.\u001b[39mcos(math\u001b[38;5;241m.\u001b[39mradians(angle))\u001b[38;5;241m*\u001b[39my)\n",
      "\u001b[1;31mNameError\u001b[0m: name 'angle' is not defined"
     ]
    }
   ],
   "source": [
    "import math\n",
    "x1="
   ]
  },
  {
   "cell_type": "code",
   "execution_count": 38,
   "id": "15b2ae89-2c3b-4454-be8c-cf9b84611b6b",
   "metadata": {
    "tags": []
   },
   "outputs": [],
   "source": [
    "# (1/math.sin(math.radians(2*math.pi-0)))\n",
    "# math.sin(math.radians())"
   ]
  },
  {
   "cell_type": "code",
   "execution_count": 122,
   "id": "026c3baf-7cc7-41d6-b40d-d5e3046ae48b",
   "metadata": {
    "tags": []
   },
   "outputs": [
    {
     "data": {
      "text/plain": [
       "360.0"
      ]
     },
     "execution_count": 122,
     "metadata": {},
     "output_type": "execute_result"
    }
   ],
   "source": []
  }
 ],
 "metadata": {
  "kernelspec": {
   "display_name": "Python 3 (ipykernel)",
   "language": "python",
   "name": "python3"
  },
  "language_info": {
   "codemirror_mode": {
    "name": "ipython",
    "version": 3
   },
   "file_extension": ".py",
   "mimetype": "text/x-python",
   "name": "python",
   "nbconvert_exporter": "python",
   "pygments_lexer": "ipython3",
   "version": "3.9.12"
  }
 },
 "nbformat": 4,
 "nbformat_minor": 5
}
