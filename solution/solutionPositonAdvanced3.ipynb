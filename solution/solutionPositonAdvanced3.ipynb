{
 "cells": [
  {
   "cell_type": "code",
   "execution_count": null,
   "id": "0789050c-73d5-493c-a9cc-90c5be9a9e85",
   "metadata": {},
   "outputs": [
    {
     "data": {
      "text/plain": [
       "(7.32, 27.32)"
      ]
     },
     "execution_count": 9,
     "metadata": {},
     "output_type": "execute_result"
    }
   ],
   "source": [
    "\n",
    "# solutionPosition3(1,1,15)\n",
    "# xya=solutionPosition3(1,1,15)\n",
    "# rotation_xya=rotationVector(xya[0],xya[1],xya[2])\n",
    "# rotation_xya\n",
    "\n",
    "# n=int(input(\"enter the number of distace and steering angle\"))\n",
    "# w=float(input('enter wheelbase'))\n",
    "\n",
    "# for i in range(n):\n",
    "#     d=float(input('enter distance'))\n",
    "#     sa=float(input('enter steeringange'))\n",
    "#     xya=solutionPosition3(w,d,sa)\n",
    "#     rotation_xya=rotationVector(xya[0],xya[1],xya[2])\n",
    "#     x_axis=xya[0]+rotation_xya[0]\n",
    "#     y_axis=turnRadius(w,sa)-rotation_xya[1]\n",
    "# print(round(x_axis),round(y_axis))\n",
    "\n",
    "# sum all rotation of y value\n",
    "# sum r1+x-coodinate of the last distance and string conver -ve into and add\n",
    "#sum all angle then add\n",
    "\n",
    "# def angle(d,r):\n",
    "#     theta=(d*360)/(2*math.pi*r)\n",
    "#     # print(theta)\n",
    "#     return theta\n",
    "\n",
    "# def turnRadius(w,sa):\n",
    "#     if sa<=0:\n",
    "#         r=(-1)*(w/math.sin(math.radians(360-sa)))\n",
    "#         # if r<0:\n",
    "#         #     r=r*(-1)\n",
    "#         # print(r)\n",
    "#     else:\n",
    "#         r=w/math.sin(math.radians(sa))\n",
    "#         # print('kk',r)\n",
    "#     return r\n",
    "\n",
    "def rotationVector(x,y,angle):\n",
    "    x1=(math.cos(math.radians(angle))*x)+(math.sin(math.radians(angle))*y)\n",
    "    y1=((-1)*math.sin(math.radians(angle))*x)+(math.cos(math.radians(angle))*y)\n",
    "    return round(x1,2),round(y1,2)\n",
    "\n",
    "# r=turnRadius(1.09,10)\n",
    "# a=angle(9.86,r)\n",
    "rotationVector(20,20,30)"
   ]
  },
  {
   "cell_type": "code",
   "execution_count": 40,
   "id": "c910afa5-189f-48e6-b1f3-7acfc9b4daa9",
   "metadata": {
    "tags": []
   },
   "outputs": [
    {
     "data": {
      "text/plain": [
       "(0.0, 9.86, 360.0)"
      ]
     },
     "execution_count": 40,
     "metadata": {},
     "output_type": "execute_result"
    }
   ],
   "source": [
    "# math.radians give value like 0, 1/2, 1/root2...\n",
    "\n",
    "import math\n",
    "def turnRadius(w,sa):\n",
    "    if sa==0:\n",
    "        r=w/math.sin(math.radians(360))\n",
    "    else:\n",
    "         r=w/math.sin(math.radians(sa))\n",
    "    return r\n",
    "\n",
    "def angle(d,r):\n",
    "    theta=(d*360)/(2*math.pi*r)\n",
    "    return theta\n",
    "\n",
    "def yPoint(a,r):\n",
    "    y=math.sin(math.radians(a))*r\n",
    "    return y\n",
    "\n",
    "def xPoint(a,r):\n",
    "    x=math.cos(math.radians(a))*r\n",
    "    x=r-x\n",
    "    return x\n",
    "\n",
    "def solutionPosition3(w,d,sa):\n",
    "\n",
    "    r=turnRadius(w,sa)\n",
    "    a=angle(d,r)\n",
    "    x=round(xPoint(a,r),2)\n",
    "    y=round(yPoint(a,r),2)\n",
    "    if a<0:\n",
    "        if a>-360:\n",
    "            a=round(360+a,2)\n",
    "        else:\n",
    "            a=round(720+a,2)\n",
    "    else:\n",
    "        a=round(a,2)\n",
    "    return x,y,a\n",
    "\n",
    "solutionPosition3(1.09,9.86,0)"
   ]
  },
  {
   "cell_type": "code",
   "execution_count": 93,
   "id": "91518351-7b79-40b7-81a0-66ef32af2c4d",
   "metadata": {
    "tags": []
   },
   "outputs": [
    {
     "name": "stdout",
     "output_type": "stream",
     "text": [
      "translate 6.28 -6.28\n"
     ]
    },
    {
     "data": {
      "text/plain": [
       "(6.28, -6.28)"
      ]
     },
     "execution_count": 93,
     "metadata": {},
     "output_type": "execute_result"
    }
   ],
   "source": [
    "import math\n",
    "def rotationVector(x,y,a):\n",
    "    x1=(math.cos(math.radians(a))*x)+(math.sin(math.radians(a))*y)\n",
    "    y1=(((-1)*math.sin(math.radians(a)))*x)+(math.cos(math.radians(a))*y)\n",
    "    print('rotate',x1,y1)\n",
    "    return x1,y1\n",
    "\n",
    "def translationVector(x,y,a):\n",
    "    x2=x+(-6.28)\n",
    "    y2=y+(-6.28)\n",
    "    print('translate',x2,y2)\n",
    "    return x2,y2\n",
    "     \n",
    "translationVector(12.56, 0,90)\n",
    "# translationVector(-6.28,6.28,90)\n",
    "\n",
    "# translate -rotation - translate\n",
    "# 4-4,3-3(A-position)---->0,0(center)\n",
    "# translatevecter(-4,-3(center))\n",
    "# (1,1)(-3,-2(B-position))\n",
    "\n",
    "# translation formula \n",
    "# finalposition-intialposition\n"
   ]
  },
  {
   "cell_type": "code",
   "execution_count": 52,
   "id": "15b2ae89-2c3b-4454-be8c-cf9b84611b6b",
   "metadata": {
    "tags": []
   },
   "outputs": [
    {
     "data": {
      "text/plain": [
       "1.4700000000000002"
      ]
     },
     "execution_count": 52,
     "metadata": {},
     "output_type": "execute_result"
    }
   ],
   "source": [
    "# (1/math.sin(math.radians(2*math.pi-0)))\n",
    "# math.sin(math.radians())0\n",
    "p=8.67-6.28\n",
    "o=3.86-p\n",
    "o\n",
    "# p"
   ]
  },
  {
   "cell_type": "code",
   "execution_count": 6,
   "id": "026c3baf-7cc7-41d6-b40d-d5e3046ae48b",
   "metadata": {
    "tags": []
   },
   "outputs": [
    {
     "data": {
      "text/plain": [
       "0.51"
      ]
     },
     "execution_count": 6,
     "metadata": {},
     "output_type": "execute_result"
    }
   ],
   "source": [
    "p=0.3790620665840846+0.13\n",
    "round(p,2)"
   ]
  },
  {
   "cell_type": "code",
   "execution_count": 48,
   "id": "f6c6577a-b441-4380-b0b8-2c284846da1b",
   "metadata": {
    "tags": []
   },
   "outputs": [
    {
     "data": {
      "text/plain": [
       "1.5707963267948966"
      ]
     },
     "execution_count": 48,
     "metadata": {},
     "output_type": "execute_result"
    }
   ],
   "source": [
    "(1/2*math.pi)"
   ]
  },
  {
   "cell_type": "code",
   "execution_count": 7,
   "id": "4a8b0d53-e470-4c7f-828f-fe2c0b010e56",
   "metadata": {},
   "outputs": [
    {
     "name": "stdout",
     "output_type": "stream",
     "text": [
      "0.0 -6.28 center\n"
     ]
    },
    {
     "data": {
      "text/plain": [
       "(0.0, -6.28)"
      ]
     },
     "execution_count": 7,
     "metadata": {},
     "output_type": "execute_result"
    }
   ],
   "source": [
    "import math\n",
    "def turnRadius(w,sa):\n",
    "    \n",
    "    r=w/math.sin(math.radians(sa))\n",
    "    print(r)\n",
    "    return abs(r)\n",
    "\n",
    "def angle(d,r):\n",
    "    radians=d/r\n",
    "    degrees=radians*360/(2*math.pi)\n",
    "    # theta=(d)/(2*math.pi*r)\n",
    "    # print(theta,'angle at center')\n",
    "    return degrees\n",
    "\n",
    "def yPoint(a,r):\n",
    "    y=math.sin(math.radians(a))*r\n",
    "    # print(y,'y-axis MP')\n",
    "    return y\n",
    "\n",
    "def xPoint(a,r):\n",
    "    x=math.cos(math.radians(a))*r\n",
    "    # print(x,'x-axis MR')\n",
    "    x=r-x\n",
    "    # print(r,'radius from which from center',x,'rover distance from 0,0')\n",
    "    return x\n",
    "\n",
    "def solutionPosition3(w,d,sa):\n",
    "    r=turnRadius(w,sa)\n",
    "    a=angle(d,r)\n",
    "    x=round(xPoint(a,r),2)\n",
    "    y=round(yPoint(a,r),2)\n",
    "    if a<0:\n",
    "        if a>-360:\n",
    "            a=round(360+a,2)\n",
    "        else:\n",
    "            a=round(720+a,2)\n",
    "    else:\n",
    "        a=round(a,2)\n",
    "    return x,y,a\n",
    "\n",
    "def findCenter(x,y,r):\n",
    "    if y<0:\n",
    "        cy=y*(-1)\n",
    "    else:\n",
    "        cy=y*(-1)\n",
    "    if x>0:\n",
    "        cx=r-x\n",
    "    else:\n",
    "        cx=r+x\n",
    "    print(cx,cy,'center')\n",
    "    return cx,cy\n",
    "\n",
    "findCenter(6.28, 6.28,6.28)\n",
    "# solutionPosition3(1,0,-15)\n"
   ]
  },
  {
   "cell_type": "code",
   "execution_count": 32,
   "id": "0ca87502-14b9-4755-bedb-43169cdd8f83",
   "metadata": {
    "tags": []
   },
   "outputs": [
    {
     "data": {
      "text/plain": [
       "(0, -12.56)"
      ]
     },
     "execution_count": 32,
     "metadata": {},
     "output_type": "execute_result"
    }
   ],
   "source": [
    "def translationVector(x,y):\n",
    "    x2=x+0\n",
    "    y2=y+(-6.28)\n",
    "    # print('translate',x2,y2)\n",
    "    return x2,y2\n",
    "translationVector(0,-6.28)"
   ]
  },
  {
   "cell_type": "code",
   "execution_count": 43,
   "id": "f496f4c9-cefe-44a1-ae26-e09b2e69cfa5",
   "metadata": {
    "tags": []
   },
   "outputs": [
    {
     "data": {
      "text/plain": [
       "(0.79, 0.61)"
      ]
     },
     "execution_count": 43,
     "metadata": {},
     "output_type": "execute_result"
    }
   ],
   "source": [
    "def rotationVector(x,y,a):\n",
    "    x1=(math.cos(math.radians(a))*x)+(math.sin(math.radians(a))*y)\n",
    "    y1=(((-1)*math.sin(math.radians(a)))*x)+(math.cos(math.radians(a))*y)\n",
    "    # print('rotate',x1,y1) \n",
    "    return round(x1,2),round(y1,2)\n",
    "rotationVector(0.92, 0.38,-15)\n"
   ]
  },
  {
   "cell_type": "code",
   "execution_count": 1,
   "id": "674b11d5-f975-4791-8204-9cde65ed67bf",
   "metadata": {},
   "outputs": [
    {
     "data": {
      "text/plain": [
       "6.277059826626561"
      ]
     },
     "execution_count": 1,
     "metadata": {},
     "output_type": "execute_result"
    }
   ],
   "source": [
    "import math\n",
    "def turnRadius(w,d,sa):\n",
    "    if sa==0:\n",
    "        r=w/math.cos(math.radians(sa))\n",
    "    else:\n",
    "        r=w/math.sin(math.radians(sa))\n",
    "    return abs(r)\n",
    "\n",
    "turnRadius(1.09,9.86,10)"
   ]
  },
  {
   "cell_type": "code",
   "execution_count": 41,
   "id": "0c18509a-f998-4bb8-bc9f-9109d9a4fbe1",
   "metadata": {
    "tags": []
   },
   "outputs": [
    {
     "data": {
      "text/plain": [
       "(0.0, -6.28)"
      ]
     },
     "execution_count": 41,
     "metadata": {},
     "output_type": "execute_result"
    }
   ],
   "source": [
    "def findCenter(x,y,r):\n",
    "    if y<0:\n",
    "        cy=y*(-1)\n",
    "    else:\n",
    "        cy=y*(-1)\n",
    "    if x>0:\n",
    "        cx=r-x\n",
    "    else:\n",
    "        cx=r+x\n",
    "    return cx,cy\n",
    "\n",
    "findCenter(6.28,6.28,6.28)"
   ]
  },
  {
   "cell_type": "code",
   "execution_count": 2,
   "id": "d0e47a2e-0f08-4ad8-ade2-9a9c867cb46d",
   "metadata": {
    "tags": []
   },
   "outputs": [
    {
     "data": {
      "text/plain": [
       "6.277059826626561"
      ]
     },
     "execution_count": 2,
     "metadata": {},
     "output_type": "execute_result"
    }
   ],
   "source": [
    "import math\n",
    "def turnRadius(w,sa):\n",
    "    if sa==0:\n",
    "        r=w/math.cos(math.radians(sa))\n",
    "    else:\n",
    "        r=w/math.sin(math.radians(sa))\n",
    "    return abs(r)\n",
    "\n",
    "turnRadius(1.09,10)"
   ]
  },
  {
   "cell_type": "code",
   "execution_count": 9,
   "id": "745e35df-7b1e-4042-a288-2e4ba53eb1e9",
   "metadata": {
    "tags": []
   },
   "outputs": [
    {
     "data": {
      "text/plain": [
       "90.00015956556554"
      ]
     },
     "execution_count": 9,
     "metadata": {},
     "output_type": "execute_result"
    }
   ],
   "source": [
    "\n",
    "def angle(d):\n",
    "    radians=d/turnRadius(1.09,10)\n",
    "    degrees=radians*360/(2*math.pi)\n",
    "    # theta=(d)/(2*math.pi*r)\n",
    "    # print(theta,'angle at center')\n",
    "    return degrees\n",
    "\n",
    "angle(9.86)"
   ]
  },
  {
   "cell_type": "code",
   "execution_count": 6,
   "id": "83dab4d4-305a-42b7-b064-9a6a917f1738",
   "metadata": {},
   "outputs": [
    {
     "data": {
      "text/plain": [
       "(0.0, 0.0, -0.0, -3.86)"
      ]
     },
     "execution_count": 6,
     "metadata": {},
     "output_type": "execute_result"
    }
   ],
   "source": [
    "# math.radians give value like 0, 1/2, 1/root2...\n",
    "import math\n",
    "def turnRadius(w,sa):\n",
    "    if sa==0:\n",
    "        r=w/math.sin(math.radians(360))\n",
    "    else:\n",
    "         r=w/math.sin(math.radians(sa))\n",
    "    return r\n",
    "\n",
    "def angle(d,r):\n",
    "    theta=(d*360)/(2*math.pi*r)\n",
    "    return theta\n",
    "\n",
    "def yPoint(a,r):\n",
    "    y=math.sin(math.radians(a))*r\n",
    "    return y\n",
    "\n",
    "def xPoint(a,r):\n",
    "    x=math.cos(math.radians(a))*r\n",
    "    x=r-x\n",
    "    return x\n",
    "\n",
    "def solutionPosition3(w,d,sa):\n",
    "\n",
    "    r=turnRadius(w,sa)\n",
    "    a=angle(d,r)\n",
    "    x=round(xPoint(a,r),2)\n",
    "    y=round(yPoint(a,r),2)\n",
    "    if a<0:\n",
    "        if a>-360:\n",
    "            a=round(360+a,2)\n",
    "        else:\n",
    "            a=round(720+a,2)\n",
    "    else:\n",
    "        a=round(a,2)\n",
    "    return x,y,a,round(r,2)\n",
    "\n",
    "solutionPosition3(1,0,-15)"
   ]
  },
  {
   "cell_type": "code",
   "execution_count": 18,
   "id": "a0c7da31-25bd-4431-adc3-a2c935d95b63",
   "metadata": {
    "tags": []
   },
   "outputs": [
    {
     "data": {
      "text/plain": [
       "(6.28, 0)"
      ]
     },
     "execution_count": 18,
     "metadata": {},
     "output_type": "execute_result"
    }
   ],
   "source": [
    "def ifRoverIsCenter():\n",
    "    cen=solutionPosition3(1.09,9.86,10)\n",
    "    return cen[3],0\n",
    "\n",
    "ifRoverIsCenter()\n"
   ]
  },
  {
   "cell_type": "code",
   "execution_count": null,
   "id": "ea9774af-97bc-4146-a080-e108d75ba733",
   "metadata": {},
   "outputs": [],
   "source": [
    "# def clockWiseThroughCenter():\n",
    "    "
   ]
  },
  {
   "cell_type": "code",
   "execution_count": 52,
   "id": "d37c0ea9-7cae-4500-9720-c1d9622a5773",
   "metadata": {
    "tags": []
   },
   "outputs": [
    {
     "data": {
      "text/plain": [
       "(0.58, 2.21)"
      ]
     },
     "execution_count": 52,
     "metadata": {},
     "output_type": "execute_result"
    }
   ],
   "source": [
    "def rotationVector(x,y,a):\n",
    "    x1=(math.cos(math.radians(a))*x)+(math.sin(math.radians(a))*y)\n",
    "    y1=((-math.sin(math.radians(a)))*x)+(math.cos(math.radians(a))*y)\n",
    "    # print('rotate',x1,y1) \n",
    "    return round(x1,2),round(y1,2)\n",
    "rotationVector(1.13,1.99,-14.83)"
   ]
  },
  {
   "cell_type": "code",
   "execution_count": null,
   "id": "6b3b5343-1df1-40de-8697-8835f850f040",
   "metadata": {},
   "outputs": [],
   "source": [
    "# from big circle center\n",
    "# 6.28, 6.28 --->without translate\n",
    "# -6.28, -6.28 --->translate--->make center\n",
    "# -6.28, 6.28 --->rotate in 90 degrees\n",
    "# -6.28, 6.28 + (-6.28, -6.28) ---> -12.56,0 translate --->original point"
   ]
  },
  {
   "cell_type": "code",
   "execution_count": null,
   "id": "fea83680-33c1-432d-83e3-693204cdd4cc",
   "metadata": {},
   "outputs": [],
   "source": [
    "# from rover center\n",
    "# 6.28, 6.28 --->without translate\n",
    "# 6.28, -6.28 --->translate--->make rover center\n",
    "# -6.28, -6.28 --->rotate in 90 degrees\n",
    "# -6.28,-6.28 + (6.28, -6.28) ---> 0,-12.56 translate --->original point"
   ]
  },
  {
   "cell_type": "code",
   "execution_count": null,
   "id": "53d1f754-dd9a-49a2-a1b3-06e85589c73f",
   "metadata": {},
   "outputs": [],
   "source": [
    "# findcentre\n",
    "# from big circle center\n",
    "# 6.28, 6.28 --->without translate\n",
    "# 0.0, -6.28 --->translate--->make center\n",
    "# -6.28, 0 --->rotate in 90 degrees\n",
    "# -6.28, 0 + (6.28, 6.28) ---> 0,6.28 translate --->original point"
   ]
  },
  {
   "cell_type": "code",
   "execution_count": null,
   "id": "3cedf1bd-47cb-47fc-863b-ff7fddb8b6ca",
   "metadata": {},
   "outputs": [
    {
     "data": {
      "text/plain": [
       "(0.0, -6.28)"
      ]
     },
     "execution_count": 42,
     "metadata": {},
     "output_type": "execute_result"
    }
   ],
   "source": [
    "def findCenter(x,y,r):\n",
    "    if y<0:\n",
    "        cy=y*(-1)\n",
    "    else:\n",
    "        cy=y*(-1)\n",
    "    if x>0:\n",
    "        cx=r-x\n",
    "    else:\n",
    "        cx=r+x\n",
    "    return cx,cy\n",
    "\n",
    "findCenter(6.28,6.28,6.28)"
   ]
  },
  {
   "cell_type": "code",
   "execution_count": null,
   "id": "bd92c91f-8024-4321-a27a-574ba151e8df",
   "metadata": {},
   "outputs": [],
   "source": [
    "# -12.56, 0.0 --->without translate\n",
    "# 12.56,0 --->make center\n",
    "# 0.0, -12.56  --->rotate in 90 degrees\n",
    "# 0.0, -12.56 + (12.56, 0.0) --->12.56, -12.56 original point\n",
    "# 12.56, 0.0 again translate"
   ]
  },
  {
   "cell_type": "code",
   "execution_count": null,
   "id": "71acf6d5-18cd-418f-930d-e103127572c9",
   "metadata": {},
   "outputs": [],
   "source": [
    "# 6.28,0 --->without translate\n",
    "# 0,0    --->make center\n",
    "# 0,0    --->rotate in 90 degrees\n",
    "# 0,0 +6.28,0--->6.28,0 original point\n"
   ]
  },
  {
   "cell_type": "code",
   "execution_count": 4,
   "id": "9ed4dcca-b977-43db-afa5-15981e7c52ff",
   "metadata": {},
   "outputs": [],
   "source": [
    "# -6.28,0 --->without translate\n",
    "#    --->make center\n",
    "# 0,0    --->rotate in 90 degrees\n",
    "# 0,0 +6.28,0--->6.28,0 original point"
   ]
  },
  {
   "cell_type": "code",
   "execution_count": 100,
   "id": "04dbfd46",
   "metadata": {},
   "outputs": [
    {
     "name": "stdout",
     "output_type": "stream",
     "text": [
      "number of segment=3\n",
      "wheelbase=1\n",
      "distance=1\n",
      "steering angle=15\n",
      "distance=1\n",
      "steering angle=0\n",
      "distance=1\n",
      "steering angle=-15\n"
     ]
    },
    {
     "data": {
      "text/plain": [
       "(0.26, 2.98, -29.66)"
      ]
     },
     "execution_count": 100,
     "metadata": {},
     "output_type": "execute_result"
    }
   ],
   "source": [
    "import math\n",
    "def turnRadius(w,sa):\n",
    "    r=w/math.sin(math.radians(360-sa))\n",
    "    return abs(r)\n",
    "\n",
    "def yPoint(a,r):\n",
    "    y=math.sin(math.radians(a))*r\n",
    "    return y\n",
    "\n",
    "def xPoint(a,r):\n",
    "    x=math.cos(math.radians(a))*r\n",
    "    x=r-x\n",
    "    return x\n",
    "\n",
    "def angle(d,r):\n",
    "    radians=d/r\n",
    "    degrees=radians*360/(2*math.pi)\n",
    "    return degrees\n",
    "\n",
    "def roverPositionAcooToTurnRadius(r):\n",
    "    return round(r),0\n",
    "\n",
    "def solution3(w,d,sa):\n",
    "    r=turnRadius(w,sa)\n",
    "    a=angle(d,r)\n",
    "    x=xPoint(a,r)\n",
    "    y=yPoint(a,r)\n",
    "#     p=roverPositionAcooToTurnRadius(r)\n",
    "#     print('  x       y    angle    r')\n",
    "    return round(x,2),round(y,2),round(a,2)\n",
    "# print(solution3(1,23.50,23))\n",
    "\n",
    "def rotate():\n",
    "    n=int(input('number of segment='))\n",
    "    w=float(input('wheelbase='))\n",
    "    x=0\n",
    "    y=0\n",
    "    nd=0\n",
    "    for i in range(n):\n",
    "        d=float(input('distance='))\n",
    "        sa=float(input('steering angle='))\n",
    "        soln=(solution3(w,d,sa))\n",
    "        x+=abs(soln[0])\n",
    "        y+=soln[1]\n",
    "        nd-=soln[2]\n",
    "    return x,y,nd\n",
    "rotate()"
   ]
  },
  {
   "cell_type": "code",
   "execution_count": 126,
   "id": "709fd1d4",
   "metadata": {},
   "outputs": [
    {
     "data": {
      "text/plain": [
       "(-0.51, 2.95, -14.83)"
      ]
     },
     "execution_count": 126,
     "metadata": {},
     "output_type": "execute_result"
    }
   ],
   "source": [
    "\n",
    "import math\n",
    "def rotationVector(x,y,a):\n",
    "    x1=(math.cos(math.radians(a))*x)+(math.sin(math.radians(a))*y)\n",
    "    y1=((-math.sin(math.radians(a)))*x)+(math.cos(math.radians(a))*y)\n",
    "    return round(x1,2), round(y1,2), a\n",
    "rotationVector(0.26, 2.98,-14.83)\n"
   ]
  },
  {
   "cell_type": "code",
   "execution_count": 9,
   "id": "d9fa62c1",
   "metadata": {},
   "outputs": [
    {
     "data": {
      "text/plain": [
       "76.37"
      ]
     },
     "execution_count": 9,
     "metadata": {},
     "output_type": "execute_result"
    }
   ],
   "source": [
    "# first coordinate 0.13,0.99 with angle=15 and distance = 1\n",
    "# second coordiante (0,1) added to first coordinate so 0.13,1.99 with angle=0 and distance = 1\n",
    "# second coordiante (0.13,0.99) added to second coordinate so 0.26,2.98 with angle=-15 and distance = 1\n",
    "# now the third coordinate rotate then -0.52 , 2.94  with angle=-15 "
   ]
  },
  {
   "cell_type": "code",
   "execution_count": 96,
   "id": "f2f324d9",
   "metadata": {},
   "outputs": [
    {
     "data": {
      "text/plain": [
       "193.89999999999998"
      ]
     },
     "execution_count": 96,
     "metadata": {},
     "output_type": "execute_result"
    }
   ],
   "source": [
    "720-526.1"
   ]
  }
 ],
 "metadata": {
  "kernelspec": {
   "display_name": "Python 3 (ipykernel)",
   "language": "python",
   "name": "python3"
  },
  "language_info": {
   "codemirror_mode": {
    "name": "ipython",
    "version": 3
   },
   "file_extension": ".py",
   "mimetype": "text/x-python",
   "name": "python",
   "nbconvert_exporter": "python",
   "pygments_lexer": "ipython3",
   "version": "3.9.12"
  }
 },
 "nbformat": 4,
 "nbformat_minor": 5
}
