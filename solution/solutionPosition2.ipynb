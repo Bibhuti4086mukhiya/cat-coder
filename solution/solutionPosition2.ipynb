{
 "cells": [
  {
   "cell_type": "code",
   "execution_count": null,
   "id": "95d81d67-da44-4434-ab23-91c56db5672a",
   "metadata": {
    "tags": []
   },
   "outputs": [
    {
     "name": "stdout",
     "output_type": "stream",
     "text": [
      "2.8003967381203148\n"
     ]
    }
   ],
   "source": [
    "import math\n",
    "def turnRadius(w,sa):\n",
    "    if sa==0:\n",
    "        r=(-1)*w/math.sin(math.radians(360-sa))\n",
    "    else:\n",
    "        r=w/math.sin(math.radians(sa))\n",
    "    return r\n",
    "\n",
    "def angle(d,r):\n",
    "    theta=(d*360)/(2*math.pi*r)\n",
    "    return theta\n",
    "\n",
    "def yPoint(a,r):\n",
    "    y=math.sin(math.radians(a))*r\n",
    "    return y\n",
    "\n",
    "def xPoint(a,r):\n",
    "    x=math.cos(math.radians(a))*r\n",
    "    x=r-x\n",
    "    return x\n",
    "\n",
    "def solutionPosition2(w,d,sa):\n",
    "    r=turnRadius(w,sa)\n",
    "    a=angle(d,r)\n",
    "    x=round(xPoint(a,r),2)\n",
    "    y=round(yPoint(a,r),2)\n",
    "    if a<0:\n",
    "        if a>-360:\n",
    "            a=round(360+a,2)\n",
    "        else:\n",
    "            a=round(720+a,2)\n",
    "    else:\n",
    "        a=round(a,2)\n",
    "    return x,y,a\n",
    "\n",
    "print(solutionPosition2(1.09,9.86,10))\n"
   ]
  },
  {
   "cell_type": "code",
   "execution_count": 19,
   "id": "b2062ef0-c8e5-4995-bd95-5e3f3daa08cd",
   "metadata": {
    "tags": []
   },
   "outputs": [
    {
     "name": "stdout",
     "output_type": "stream",
     "text": [
      "-2.4492935982947064e-16\n"
     ]
    }
   ],
   "source": [
    "print(math.sin(math.radians(360)))\n",
    "# 9.53 8.12 0.00\n",
    "# 2.70 45.00 -34.00"
   ]
  },
  {
   "cell_type": "code",
   "execution_count": 103,
   "id": "424b4b5b-a220-459d-bed8-bfbfb2c61563",
   "metadata": {
    "tags": []
   },
   "outputs": [
    {
     "name": "stdout",
     "output_type": "stream",
     "text": [
      "(-0.13, 0.99, 345.17)\n"
     ]
    }
   ],
   "source": [
    "import math\n",
    "def turnRadius(w,sa):\n",
    "    if sa==0:\n",
    "        r=(-1)*w/math.sin(math.radians(360-sa))\n",
    "    else:\n",
    "        r=w/math.sin(math.radians(sa))\n",
    "    return r\n",
    "\n",
    "def angle(d,r):\n",
    "    theta=(d*360)/(2*math.pi*r)\n",
    "    return theta\n",
    "\n",
    "def yPoint(a,r):\n",
    "    y=math.sin(math.radians(a))*r\n",
    "    return y\n",
    "\n",
    "def xPoint(a,r):\n",
    "    x=math.cos(math.radians(a))*r\n",
    "    x=r-x\n",
    "    return x\n",
    "\n",
    "def solutionPosition3(w,d,sa):\n",
    "    r=turnRadius(w,sa)\n",
    "    a=angle(d,r)\n",
    "    x=round(xPoint(a,r),2)\n",
    "    y=round(yPoint(a,r),2)\n",
    "    if a<0:\n",
    "        if a>-360:\n",
    "            a=round(360+a,2)\n",
    "        else:\n",
    "            a=round(720+a,2)\n",
    "    else:\n",
    "        a=round(a,2)\n",
    "    return x,y,a\n",
    "\n",
    "print(solutionPosition3(1,1,-15))\n"
   ]
  }
 ],
 "metadata": {
  "kernelspec": {
   "display_name": "Python 3 (ipykernel)",
   "language": "python",
   "name": "python3"
  },
  "language_info": {
   "codemirror_mode": {
    "name": "ipython",
    "version": 3
   },
   "file_extension": ".py",
   "mimetype": "text/x-python",
   "name": "python",
   "nbconvert_exporter": "python",
   "pygments_lexer": "ipython3",
   "version": "3.9.12"
  },
  "vscode": {
   "interpreter": {
    "hash": "a7e8aacb4e94cb96fcd6d79898d1bdfc8fe77d2fd2ae575997f141a6470f2aa8"
   }
  }
 },
 "nbformat": 4,
 "nbformat_minor": 5
}
